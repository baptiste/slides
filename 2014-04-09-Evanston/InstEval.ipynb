{
 "metadata": {
  "language": "Julia",
  "name": ""
 },
 "nbformat": 3,
 "nbformat_minor": 0,
 "worksheets": [
  {
   "cells": [
    {
     "cell_type": "heading",
     "level": 1,
     "metadata": {},
     "source": [
      "Fitting the InstEval data"
     ]
    },
    {
     "cell_type": "markdown",
     "metadata": {},
     "source": [
      "First we should create the data set as a DataFrame"
     ]
    },
    {
     "cell_type": "code",
     "collapsed": false,
     "input": [
      "using DataFrames,MixedModels\n",
      "inst = DataFrame(read_rda(\"./data/InstEval.rda\")[\"InstEval\"])"
     ],
     "language": "python",
     "metadata": {},
     "outputs": [
      {
       "output_type": "stream",
       "stream": "stderr",
       "text": [
        "Warning: ignoring conflicting import of StatsBase.range into DataFrames\n"
       ]
      },
      {
       "html": [
        "<table><tr><th></th><th>s</th><th>d</th><th>studage</th><th>lectage</th><th>service</th><th>dept</th><th>y</th></tr><tr><th>1</th><td>1</td><td>1002</td><td>2</td><td>2</td><td>0</td><td>2</td><td>5</td></tr><tr><th>2</th><td>1</td><td>1050</td><td>2</td><td>1</td><td>1</td><td>6</td><td>2</td></tr><tr><th>3</th><td>1</td><td>1582</td><td>2</td><td>2</td><td>0</td><td>2</td><td>5</td></tr><tr><th>4</th><td>1</td><td>2050</td><td>2</td><td>2</td><td>1</td><td>3</td><td>3</td></tr><tr><th>5</th><td>2</td><td>115</td><td>2</td><td>1</td><td>0</td><td>5</td><td>2</td></tr><tr><th>6</th><td>2</td><td>756</td><td>2</td><td>1</td><td>0</td><td>5</td><td>4</td></tr><tr><th>7</th><td>3</td><td>7</td><td>2</td><td>1</td><td>1</td><td>11</td><td>4</td></tr><tr><th>8</th><td>3</td><td>13</td><td>2</td><td>1</td><td>0</td><td>10</td><td>5</td></tr><tr><th>9</th><td>3</td><td>36</td><td>2</td><td>1</td><td>0</td><td>10</td><td>5</td></tr><tr><th>10</th><td>3</td><td>140</td><td>2</td><td>1</td><td>0</td><td>10</td><td>4</td></tr><tr><th>11</th><td>3</td><td>409</td><td>2</td><td>2</td><td>0</td><td>10</td><td>4</td></tr><tr><th>12</th><td>3</td><td>444</td><td>2</td><td>2</td><td>0</td><td>10</td><td>4</td></tr><tr><th>13</th><td>3</td><td>494</td><td>2</td><td>1</td><td>1</td><td>9</td><td>4</td></tr><tr><th>14</th><td>3</td><td>625</td><td>2</td><td>2</td><td>0</td><td>10</td><td>3</td></tr><tr><th>15</th><td>3</td><td>696</td><td>2</td><td>2</td><td>1</td><td>9</td><td>2</td></tr><tr><th>16</th><td>3</td><td>1056</td><td>2</td><td>2</td><td>1</td><td>8</td><td>4</td></tr><tr><th>17</th><td>3</td><td>1437</td><td>2</td><td>1</td><td>0</td><td>10</td><td>4</td></tr><tr><th>18</th><td>3</td><td>1917</td><td>2</td><td>1</td><td>0</td><td>10</td><td>5</td></tr><tr><th>19</th><td>3</td><td>1936</td><td>2</td><td>1</td><td>0</td><td>10</td><td>2</td></tr><tr><th>20</th><td>3</td><td>2058</td><td>2</td><td>1</td><td>0</td><td>10</td><td>3</td></tr><tr><th>21</th><td>4</td><td>17</td><td>2</td><td>2</td><td>0</td><td>2</td><td>4</td></tr><tr><th>22</th><td>4</td><td>70</td><td>2</td><td>1</td><td>1</td><td>11</td><td>5</td></tr><tr><th>23</th><td>4</td><td>501</td><td>2</td><td>1</td><td>0</td><td>2</td><td>5</td></tr><tr><th>24</th><td>4</td><td>1161</td><td>2</td><td>1</td><td>1</td><td>11</td><td>3</td></tr><tr><th>25</th><td>4</td><td>1323</td><td>2</td><td>1</td><td>0</td><td>2</td><td>4</td></tr><tr><th>26</th><td>4</td><td>1349</td><td>2</td><td>2</td><td>0</td><td>2</td><td>5</td></tr><tr><th>27</th><td>4</td><td>1361</td><td>2</td><td>1</td><td>0</td><td>2</td><td>4</td></tr><tr><th>28</th><td>4</td><td>1564</td><td>2</td><td>2</td><td>0</td><td>2</td><td>3</td></tr><tr><th>29</th><td>5</td><td>115</td><td>2</td><td>1</td><td>0</td><td>5</td><td>4</td></tr><tr><th>30</th><td>5</td><td>536</td><td>2</td><td>1</td><td>0</td><td>5</td><td>4</td></tr><tr><th>&vellip;</th><td>&vellip;</td><td>&vellip;</td><td>&vellip;</td><td>&vellip;</td><td>&vellip;</td><td>&vellip;</td><td>&vellip;</td></tr></table>"
       ],
       "metadata": {},
       "output_type": "pyout",
       "prompt_number": 1,
       "text": [
        "73421x7 DataFrame\n",
        "|-------|--------|--------|---------|---------|---------|------|---|\n",
        "| Row # | s      | d      | studage | lectage | service | dept | y |\n",
        "| 1     | \"1\"    | \"1002\" | \"2\"     | \"2\"     | \"0\"     | \"2\"  | 5 |\n",
        "| 2     | \"1\"    | \"1050\" | \"2\"     | \"1\"     | \"1\"     | \"6\"  | 2 |\n",
        "| 3     | \"1\"    | \"1582\" | \"2\"     | \"2\"     | \"0\"     | \"2\"  | 5 |\n",
        "| 4     | \"1\"    | \"2050\" | \"2\"     | \"2\"     | \"1\"     | \"3\"  | 3 |\n",
        "| 5     | \"2\"    | \"115\"  | \"2\"     | \"1\"     | \"0\"     | \"5\"  | 2 |\n",
        "| 6     | \"2\"    | \"756\"  | \"2\"     | \"1\"     | \"0\"     | \"5\"  | 4 |\n",
        "| 7     | \"3\"    | \"7\"    | \"2\"     | \"1\"     | \"1\"     | \"11\" | 4 |\n",
        "| 8     | \"3\"    | \"13\"   | \"2\"     | \"1\"     | \"0\"     | \"10\" | 5 |\n",
        "| 9     | \"3\"    | \"36\"   | \"2\"     | \"1\"     | \"0\"     | \"10\" | 5 |\n",
        "| 10    | \"3\"    | \"140\"  | \"2\"     | \"1\"     | \"0\"     | \"10\" | 4 |\n",
        "| 11    | \"3\"    | \"409\"  | \"2\"     | \"2\"     | \"0\"     | \"10\" | 4 |\n",
        "\u22ee\n",
        "| 73410 | \"2972\" | \"1056\" | \"4\"     | \"2\"     | \"1\"     | \"8\"  | 5 |\n",
        "| 73411 | \"2972\" | \"1106\" | \"4\"     | \"1\"     | \"1\"     | \"4\"  | 3 |\n",
        "| 73412 | \"2972\" | \"1203\" | \"4\"     | \"3\"     | \"1\"     | \"3\"  | 5 |\n",
        "| 73413 | \"2972\" | \"1722\" | \"4\"     | \"5\"     | \"1\"     | \"11\" | 5 |\n",
        "| 73414 | \"2972\" | \"1749\" | \"4\"     | \"1\"     | \"0\"     | \"10\" | 5 |\n",
        "| 73415 | \"2972\" | \"1780\" | \"4\"     | \"4\"     | \"1\"     | \"11\" | 3 |\n",
        "| 73416 | \"2972\" | \"1782\" | \"4\"     | \"4\"     | \"1\"     | \"4\"  | 5 |\n",
        "| 73417 | \"2972\" | \"2034\" | \"4\"     | \"1\"     | \"1\"     | \"6\"  | 3 |\n",
        "| 73418 | \"2972\" | \"2079\" | \"4\"     | \"3\"     | \"1\"     | \"11\" | 4 |\n",
        "| 73419 | \"2972\" | \"2084\" | \"4\"     | \"1\"     | \"0\"     | \"10\" | 5 |\n",
        "| 73420 | \"2972\" | \"2110\" | \"4\"     | \"2\"     | \"1\"     | \"4\"  | 1 |\n",
        "| 73421 | \"2972\" | \"2121\" | \"4\"     | \"2\"     | \"1\"     | \"2\"  | 3 |"
       ]
      }
     ],
     "prompt_number": 1
    },
    {
     "cell_type": "code",
     "collapsed": false,
     "input": [
      "fm1 = fit(lmm(y ~ dept*service + (1|s) + (1|d), inst))"
     ],
     "language": "python",
     "metadata": {},
     "outputs": [
      {
       "metadata": {},
       "output_type": "pyout",
       "prompt_number": 2,
       "text": [
        "Linear mixed model fit by maximum likelihood\n",
        " logLik: -118792.776708, deviance: 237585.553415\n",
        "\n",
        " Variance components:\n",
        "                Variance    Std.Dev.\n",
        " s              0.105418    0.324681\n",
        " d              0.258416    0.508347\n",
        " Residual       1.384728    1.176745\n",
        " Number of obs: 73421; levels of grouping factors: 2972, 1128\n",
        "\n",
        "  Fixed-effects parameters:\n",
        "        Estimate Std.Error   z value\n",
        " [1]     3.22961  0.064053   50.4209\n",
        " [2]    0.129536  0.101294   1.27882\n",
        " [3]   -0.176751 0.0881352  -2.00545\n",
        " [4]   0.0517102 0.0817524  0.632522\n",
        " [5]   0.0347319  0.085621  0.405647\n",
        " [6]     0.14594 0.0997984   1.46235\n",
        " [7]    0.151689 0.0816897   1.85689\n",
        " [8]    0.104206  0.118751  0.877517\n",
        " [9]   0.0440401 0.0962985  0.457329\n",
        "[10]   0.0517546 0.0986029  0.524879\n",
        "[11]   0.0466719  0.101942  0.457828\n",
        "[12]   0.0563461 0.0977925   0.57618\n",
        "[13]   0.0596536  0.100233   0.59515\n",
        "[14]  0.00556281  0.110867 0.0501756\n",
        "[15]    0.252025 0.0686507   3.67112\n",
        "[16]   -0.180757  0.123179  -1.46744\n",
        "[17]   0.0186492  0.110017  0.169512\n",
        "[18]   -0.282269 0.0792937  -3.55979\n",
        "[19]   -0.494464 0.0790278  -6.25683\n",
        "[20]   -0.392054  0.110313  -3.55403\n",
        "[21]   -0.278547 0.0823727  -3.38154\n",
        "[22]   -0.189526  0.111449  -1.70056\n",
        "[23]   -0.499868 0.0885423  -5.64553\n",
        "[24]   -0.497162 0.0917162  -5.42065\n",
        "[25]    -0.24042 0.0982071   -2.4481\n",
        "[26]   -0.223013 0.0890548  -2.50422\n",
        "[27]   -0.516997 0.0809077  -6.38997\n",
        "[28]   -0.384773  0.091843  -4.18946\n"
       ]
      }
     ],
     "prompt_number": 2
    },
    {
     "cell_type": "markdown",
     "metadata": {},
     "source": [
      "The optimization to determine the maximum likelihood estimates is over the parameter vector `lambda`, which is the pair of ratios of the standard deviations for `s` and for `d` to the residual standard deviation."
     ]
    },
    {
     "cell_type": "code",
     "collapsed": false,
     "input": [
      "println(fm1.lambda)"
     ],
     "language": "python",
     "metadata": {},
     "outputs": [
      {
       "output_type": "stream",
       "stream": "stdout",
       "text": [
        "[0."
       ]
      },
      {
       "output_type": "stream",
       "stream": "stdout",
       "text": [
        "27591488619285953,0.4319940925701282]\n"
       ]
      }
     ],
     "prompt_number": 3
    },
    {
     "cell_type": "markdown",
     "metadata": {},
     "source": [
      "Because Julia uses a [JIT](http://en.wikipedia.org/wiki/Just-in-time_compilation) the first call to a generic with a particular argument signature is slower than subsequent calls.  We can trace the optimization by setting the optional argument `verbose` to `true` in the call to `fit`."
     ]
    },
    {
     "cell_type": "code",
     "collapsed": false,
     "input": [
      "@time fit(lmm(y ~ dept*service + (1|s) + (1|d), inst),true);"
     ],
     "language": "python",
     "metadata": {},
     "outputs": [
      {
       "output_type": "stream",
       "stream": "stdout",
       "text": [
        "f_1: 241920.83782, ["
       ]
      },
      {
       "output_type": "stream",
       "stream": "stdout",
       "text": [
        "1.0,1.0]\n",
        "f_2: 244850.35313, ["
       ]
      },
      {
       "output_type": "stream",
       "stream": "stdout",
       "text": [
        "1.75,1.0]\n",
        "f_3: 242983.26659, ["
       ]
      },
      {
       "output_type": "stream",
       "stream": "stdout",
       "text": [
        "1.0,1.75]\n",
        "f_4: 238454.23551, ["
       ]
      },
      {
       "output_type": "stream",
       "stream": "stdout",
       "text": [
        "0.25,1.0]\n",
        "f_5: 241716.05374, ["
       ]
      },
      {
       "output_type": "stream",
       "stream": "stdout",
       "text": [
        "1.0,0.25]\n",
        "f_6: 240026.05964, ["
       ]
      },
      {
       "output_type": "stream",
       "stream": "stdout",
       "text": [
        "0.0,0.445919]\n",
        "f_7: 241378.58265, ["
       ]
      },
      {
       "output_type": "stream",
       "stream": "stdout",
       "text": [
        "0.0,1.27951]\n",
        "f_8: 238463.85417, ["
       ]
      },
      {
       "output_type": "stream",
       "stream": "stdout",
       "text": [
        "0.346954,0.95699]\n",
        "f_9: 238337.43511, ["
       ]
      },
      {
       "output_type": "stream",
       "stream": "stdout",
       "text": [
        "0.25115,0.933415]\n",
        "f_10: 238450.00008, ["
       ]
      },
      {
       "output_type": "stream",
       "stream": "stdout",
       "text": [
        "0.195179,0.871898]\n",
        "f_11: 238282.78311, ["
       ]
      },
      {
       "output_type": "stream",
       "stream": "stdout",
       "text": [
        "0.268777,0.913682]\n",
        "f_12: 238250.87656, ["
       ]
      },
      {
       "output_type": "stream",
       "stream": "stdout",
       "text": [
        "0.280725,0.897062]\n",
        "f_13: 238207.46301, ["
       ]
      },
      {
       "output_type": "stream",
       "stream": "stdout",
       "text": [
        "0.303696,0.863175]\n",
        "f_14: 238195.80295, ["
       ]
      },
      {
       "output_type": "stream",
       "stream": "stdout",
       "text": [
        "0.319029,0.842641]\n",
        "f_15: 238196.40553, ["
       ]
      },
      {
       "output_type": "stream",
       "stream": "stdout",
       "text": [
        "0.324123,0.837137]\n",
        "f_16: 238179.53711, ["
       ]
      },
      {
       "output_type": "stream",
       "stream": "stdout",
       "text": [
        "0.317249,0.835355]\n",
        "f_17: 238160.85286, ["
       ]
      },
      {
       "output_type": "stream",
       "stream": "stdout",
       "text": [
        "0.312094,0.829907]\n",
        "f_18: 238126.53332, ["
       ]
      },
      {
       "output_type": "stream",
       "stream": "stdout",
       "text": [
        "0.303016,0.817967]\n",
        "f_19: 238066.44966, ["
       ]
      },
      {
       "output_type": "stream",
       "stream": "stdout",
       "text": [
        "0.289624,0.791122]\n",
        "f_20: 237960.37093, ["
       ]
      },
      {
       "output_type": "stream",
       "stream": "stdout",
       "text": [
        "0.275292,0.732859]\n",
        "f_21: 237771.65691, ["
       ]
      },
      {
       "output_type": "stream",
       "stream": "stdout",
       "text": [
        "0.259406,0.613915]\n",
        "f_22: 237651.6783, ["
       ]
      },
      {
       "output_type": "stream",
       "stream": "stdout",
       "text": [
        "0.242704,0.374497]\n",
        "f_23: 240177.28897, ["
       ]
      },
      {
       "output_type": "stream",
       "stream": "stdout",
       "text": [
        "0.0941482,0.185999]\n",
        "f_24: 237591.38115, ["
       ]
      },
      {
       "output_type": "stream",
       "stream": "stdout",
       "text": [
        "0.283051,0.410359]\n",
        "f_25: 237898.58452, ["
       ]
      },
      {
       "output_type": "stream",
       "stream": "stdout",
       "text": [
        "0.330503,0.300139]\n",
        "f_26: 237625.00815, ["
       ]
      },
      {
       "output_type": "stream",
       "stream": "stdout",
       "text": [
        "0.312366,0.409428]\n",
        "f_27: 237599.45773, ["
       ]
      },
      {
       "output_type": "stream",
       "stream": "stdout",
       "text": [
        "0.286273,0.470272]\n",
        "f_28: 237599.86007, ["
       ]
      },
      {
       "output_type": "stream",
       "stream": "stdout",
       "text": [
        "0.287796,0.399337]\n",
        "f_29: 237586.35767, ["
       ]
      },
      {
       "output_type": "stream",
       "stream": "stdout",
       "text": [
        "0.281267,0.433017]\n",
        "f_30: 237586.23507, ["
       ]
      },
      {
       "output_type": "stream",
       "stream": "stdout",
       "text": [
        "0.280855,0.432391]\n",
        "f_31: 237586.04587, ["
       ]
      },
      {
       "output_type": "stream",
       "stream": "stdout",
       "text": [
        "0.280107,0.432456]\n",
        "f_32: 237585.75792, ["
       ]
      },
      {
       "output_type": "stream",
       "stream": "stdout",
       "text": [
        "0.278609,0.432398]\n",
        "f_33: 237585.55709, ["
       ]
      },
      {
       "output_type": "stream",
       "stream": "stdout",
       "text": [
        "0.275788,0.431376]\n",
        "f_34: 237585.58866, ["
       ]
      },
      {
       "output_type": "stream",
       "stream": "stdout",
       "text": [
        "0.275575,0.430052]\n",
        "f_35: 237585.59988, ["
       ]
      },
      {
       "output_type": "stream",
       "stream": "stdout",
       "text": [
        "0.274638,0.432066]\n",
        "f_36: 237585.55357, ["
       ]
      },
      {
       "output_type": "stream",
       "stream": "stdout",
       "text": [
        "0.275935,0.432124]\n",
        "f_37: 237585.56011, ["
       ]
      },
      {
       "output_type": "stream",
       "stream": "stdout",
       "text": [
        "0.275855,0.432869]\n",
        "f_38: 237585.55342, ["
       ]
      },
      {
       "output_type": "stream",
       "stream": "stdout",
       "text": [
        "0.275921,0.432005]\n",
        "f_39: 237585.5536, ["
       ]
      },
      {
       "output_type": "stream",
       "stream": "stdout",
       "text": [
        "0.275995,0.431996]\n",
        "f_40: 237585.55345, ["
       ]
      },
      {
       "output_type": "stream",
       "stream": "stdout",
       "text": [
        "0.275908,0.431931]\n",
        "f_41: 237585.55355, ["
       ]
      },
      {
       "output_type": "stream",
       "stream": "stdout",
       "text": [
        "0.275846,0.432008]\n",
        "f_42: 237585.55342, ["
       ]
      },
      {
       "output_type": "stream",
       "stream": "stdout",
       "text": [
        "0.275915,0.431994]\n",
        "f_43: 237585.55342, ["
       ]
      },
      {
       "output_type": "stream",
       "stream": "stdout",
       "text": [
        "0.275916,0.432003]\n",
        "f_44: 237585.55342, ["
       ]
      },
      {
       "output_type": "stream",
       "stream": "stdout",
       "text": [
        "0.275916,0.431994]\n",
        "f_45: 237585.55342, ["
       ]
      },
      {
       "output_type": "stream",
       "stream": "stdout",
       "text": [
        "0.275914,0.431994]\n",
        "f_46: 237585.55342, ["
       ]
      },
      {
       "output_type": "stream",
       "stream": "stdout",
       "text": [
        "0.275915,0.431993]\n",
        "f_47: 237585.55342, ["
       ]
      },
      {
       "output_type": "stream",
       "stream": "stdout",
       "text": [
        "0.275915,0.431994]\n",
        "XTOL_REACHED\n",
        "elapsed time: 5.741364208 seconds (214297856 bytes allocated)\n"
       ]
      }
     ],
     "prompt_number": 3
    },
    {
     "cell_type": "heading",
     "level": 2,
     "metadata": {},
     "source": [
      "Structure of the model object"
     ]
    },
    {
     "cell_type": "markdown",
     "metadata": {},
     "source": [
      "The `MixedModels` package has several different representations of `LMM`s according to the number of random-effects terms and whether they are vector or scalar terms.  This model has two scalar random-effects terms so its type is `LMMscalarn`.  The type is templated according to the index type in the sparse matrices."
     ]
    },
    {
     "cell_type": "code",
     "collapsed": false,
     "input": [
      "typeof(fm1)"
     ],
     "language": "python",
     "metadata": {},
     "outputs": [
      {
       "metadata": {},
       "output_type": "pyout",
       "prompt_number": 4,
       "text": [
        "LMMScalarn{Int32} (constructor with 1 method)"
       ]
      }
     ],
     "prompt_number": 4
    },
    {
     "cell_type": "markdown",
     "metadata": {},
     "source": [
      "In a model with scalar random-effects terms only, the relative covariance matrix is diagonal.  In this case it has two diagonal blocks, a multiple of the identity of size 2972 and a multiple of the identity of size 1128."
     ]
    },
    {
     "cell_type": "code",
     "collapsed": false,
     "input": [
      "show(names(fm1))"
     ],
     "language": "python",
     "metadata": {},
     "outputs": [
      {
       "output_type": "stream",
       "stream": "stdout",
       "text": [
        "[:"
       ]
      },
      {
       "output_type": "stream",
       "stream": "stdout",
       "text": [
        "A,:L,:Lambda,:RX,:X,:Xty,:Zt,:ZtX,:ZtZ,:Zty,:beta,:fnms,:lambda,:mu,:offsets,:perm,:u,:y,:REML,:fit]"
       ]
      }
     ],
     "prompt_number": 5
    },
    {
     "cell_type": "code",
     "collapsed": false,
     "input": [
      "fm1.Lambda"
     ],
     "language": "python",
     "metadata": {},
     "outputs": [
      {
       "metadata": {},
       "output_type": "pyout",
       "prompt_number": 6,
       "text": [
        "4100x4100 Diagonal{Float64}:\n",
        " 0.275915  0.0       0.0       0.0       \u2026  0.0       0.0       0.0     \n",
        " 0.0       0.275915  0.0       0.0          0.0       0.0       0.0     \n",
        " 0.0       0.0       0.275915  0.0          0.0       0.0       0.0     \n",
        " 0.0       0.0       0.0       0.275915     0.0       0.0       0.0     \n",
        " 0.0       0.0       0.0       0.0          0.0       0.0       0.0     \n",
        " 0.0       0.0       0.0       0.0       \u2026  0.0       0.0       0.0     \n",
        " 0.0       0.0       0.0       0.0          0.0       0.0       0.0     \n",
        " 0.0       0.0       0.0       0.0          0.0       0.0       0.0     \n",
        " 0.0       0.0       0.0       0.0          0.0       0.0       0.0     \n",
        " 0.0       0.0       0.0       0.0          0.0       0.0       0.0     \n",
        " 0.0       0.0       0.0       0.0       \u2026  0.0       0.0       0.0     \n",
        " 0.0       0.0       0.0       0.0          0.0       0.0       0.0     \n",
        " 0.0       0.0       0.0       0.0          0.0       0.0       0.0     \n",
        " \u22ee                                       \u22f1                              \n",
        " 0.0       0.0       0.0       0.0          0.0       0.0       0.0     \n",
        " 0.0       0.0       0.0       0.0          0.0       0.0       0.0     \n",
        " 0.0       0.0       0.0       0.0       \u2026  0.0       0.0       0.0     \n",
        " 0.0       0.0       0.0       0.0          0.0       0.0       0.0     \n",
        " 0.0       0.0       0.0       0.0          0.0       0.0       0.0     \n",
        " 0.0       0.0       0.0       0.0          0.0       0.0       0.0     \n",
        " 0.0       0.0       0.0       0.0          0.0       0.0       0.0     \n",
        " 0.0       0.0       0.0       0.0       \u2026  0.0       0.0       0.0     \n",
        " 0.0       0.0       0.0       0.0          0.0       0.0       0.0     \n",
        " 0.0       0.0       0.0       0.0          0.431994  0.0       0.0     \n",
        " 0.0       0.0       0.0       0.0          0.0       0.431994  0.0     \n",
        " 0.0       0.0       0.0       0.0          0.0       0.0       0.431994"
       ]
      }
     ],
     "prompt_number": 6
    },
    {
     "cell_type": "markdown",
     "metadata": {},
     "source": [
      "The sparse Cholesky factor is also of size 4100.  Because the two grouping factors, `s` and `d`, are _partially crossed_ there is considerable *fill_in* in the creation of the factor, `L`, from the symmetric sparse matrix, `ZtZ`, that is factored as \n",
      "$ LL' = \\Lambda'Z'Z\\Lambda + I $"
     ]
    },
    {
     "cell_type": "code",
     "collapsed": false,
     "input": [
      "sparse(fm1.ZtZ)"
     ],
     "language": "python",
     "metadata": {},
     "outputs": [
      {
       "metadata": {},
       "output_type": "pyout",
       "prompt_number": 7,
       "text": [
        "4100x4100 sparse matrix with 150942 Float64 entries:\n",
        "\t[1   ,    1]  =  4.0\n",
        "\t[3497,    1]  =  1.0\n",
        "\t[3532,    1]  =  1.0\n",
        "\t[3804,    1]  =  1.0\n",
        "\t[4040,    1]  =  1.0\n",
        "\t[2   ,    2]  =  2.0\n",
        "\t[3034,    2]  =  1.0\n",
        "\t[3378,    2]  =  1.0\n",
        "\t[3   ,    3]  =  14.0\n",
        "\t[2975,    3]  =  1.0\n",
        "\t\u22ee\n",
        "\t[2716, 4100]  =  1.0\n",
        "\t[2717, 4100]  =  1.0\n",
        "\t[2722, 4100]  =  1.0\n",
        "\t[2744, 4100]  =  1.0\n",
        "\t[2790, 4100]  =  1.0\n",
        "\t[2820, 4100]  =  1.0\n",
        "\t[2833, 4100]  =  1.0\n",
        "\t[2913, 4100]  =  1.0\n",
        "\t[2920, 4100]  =  1.0\n",
        "\t[2948, 4100]  =  1.0\n",
        "\t[4100, 4100]  =  108.0"
       ]
      }
     ],
     "prompt_number": 7
    },
    {
     "cell_type": "code",
     "collapsed": false,
     "input": [
      "sparse(fm1.L)"
     ],
     "language": "python",
     "metadata": {},
     "outputs": [
      {
       "metadata": {},
       "output_type": "pyout",
       "prompt_number": 8,
       "text": [
        "4100x4100 sparse matrix with 600663 Float64 entries:\n",
        "\t[1   ,    1]  =  1.03737\n",
        "\t[4024,    1]  =  0.1149\n",
        "\t[2   ,    2]  =  1.03737\n",
        "\t[4016,    2]  =  0.1149\n",
        "\t[3   ,    3]  =  1.07343\n",
        "\t[3793,    3]  =  0.11104\n",
        "\t[3935,    3]  =  0.11104\n",
        "\t[4   ,    4]  =  1.10833\n",
        "\t[3756,    4]  =  0.107544\n",
        "\t[3802,    4]  =  0.107544\n",
        "\t\u22ee\n",
        "\t[4100, 4096]  =  -0.00475942\n",
        "\t[4097, 4097]  =  4.52309\n",
        "\t[4098, 4097]  =  0.00054934\n",
        "\t[4099, 4097]  =  -0.0102099\n",
        "\t[4100, 4097]  =  -0.0103601\n",
        "\t[4098, 4098]  =  2.05349\n",
        "\t[4099, 4098]  =  0.145466\n",
        "\t[4100, 4098]  =  0.0274242\n",
        "\t[4099, 4099]  =  11.9038\n",
        "\t[4100, 4099]  =  -0.316909\n",
        "\t[4100, 4100]  =  10.9332"
       ]
      }
     ],
     "prompt_number": 8
    },
    {
     "cell_type": "markdown",
     "metadata": {},
     "source": [
      "This is a _supernodal_ sparse Cholesky factor in which the last 758 columns of the factor are collapsed and stored densely.  This allows the use of dense matrix methods for this part of the decomposition at the expense of storing the full dense matrix of what is essentially a dense triangle.\n",
      "\n",
      "Profiling the fit of this model shows that most of the time is spent in updating the sparse Cholesky factorization and in solving systems of equations using this factor."
     ]
    },
    {
     "cell_type": "code",
     "collapsed": false,
     "input": [
      "@profile fit(lmm(y ~ service*dept + (1|s) + (1|d), inst));\n",
      "Profile.print()"
     ],
     "language": "python",
     "metadata": {},
     "outputs": [
      {
       "output_type": "stream",
       "stream": "stdout",
       "text": [
        "1     ...sions/src/rkernels.jl; saccum_fdiff; line: 147\n"
       ]
      },
      {
       "output_type": "stream",
       "stream": "stdout",
       "text": [
        "10    ...sions/src/rkernels.jl; saccum_fdiff; line: 153\n",
        "6     ...sions/src/rkernels.jl; saccum_fdiff; line: 154\n",
        "1     ...sions/src/rkernels.jl; saccum_fdiff; line: 155\n",
        "1     abstractarray.jl; checkbounds; line: 62\n",
        "2     abstractarray.jl; copy!; line: 148\n",
        "1     abstractarray.jl; copy!; line: 149\n",
        "1     array.jl; findnext; line: 1002\n",
        "1     array.jl; setindex!; line: 298\n",
        "1     bitarray.jl; size; line: 55\n",
        "1     linalg/umfpack.jl; decrement!; line: 61\n",
        "569   loading.jl; include_string; line: 97\n",
        "     569 profile.jl; anonymous; line: 14\n",
        "       2   ...inearmixedmodels.jl; fit; line: 5\n",
        "        2 ...linearmixedmodels.jl; fit; line: 31\n",
        "         2 .../NLopt/src/NLopt.jl; optimize!; line: 491\n",
        "       567 ...edModels/src/lmm.jl; lmm; line: 10\n",
        "        276 ...edModels/src/lmm.jl; lmm; line: 10\n",
        "         9   ...formula/formula.jl; ModelFrame; line: 175\n",
        "           2 ...formula/formula.jl; na_omit; line: 155\n",
        "            2 ...frame/dataframe.jl; complete_cases; line: 984\n",
        "              2 ...ooleddataarray.jl; isna; line: 235\n",
        "               2 broadcast.jl; .==; line: 382\n",
        "                2 broadcast.jl; bitcache_eq; line: 366\n",
        "           7 ...formula/formula.jl; na_omit; line: 156\n",
        "              7 ...rame/dataframe.jl; getindex; line: 370\n",
        "                2 ...src/dataarray.jl; getindex; line: 790\n",
        "                 1 array.jl; getindex_bool_1d; line: 281\n",
        "                 1 array.jl; getindex_bool_1d; line: 282\n",
        "                5 ...oleddataarray.jl; getindex; line: 433\n",
        "                 4 array.jl; getindex_bool_1d; line: 281\n",
        "                 1 array.jl; getindex_bool_1d; line: 283\n",
        "         11  ...formula/formula.jl; ModelFrame; line: 177\n",
        "           11 ...formula/formula.jl; dropUnusedLevels!; line: 162\n",
        "            10 set.jl; unique; line: 93\n",
        "             3 dict.jl; ht_keyindex; line: 441\n",
        "             2 dict.jl; ht_keyindex; line: 444\n",
        "             1 dict.jl; ht_keyindex; line: 445\n",
        "             1 dict.jl; ht_keyindex; line: 448\n",
        "             2 dict.jl; ht_keyindex; line: 451\n",
        "            1  set.jl; unique; line: 95\n",
        "         1   ...formula/formula.jl; ModelMatrix; line: 223\n",
        "           1 array.jl; ones; line: 159\n",
        "              1 array.jl; fill!; line: 147\n",
        "         77  ...formula/formula.jl; ModelMatrix; line: 232\n",
        "           77 ...formula/formula.jl; cols; line: 197\n",
        "              77 multidimensional.jl; getindex; line: 251\n",
        "               48 multidimensional.jl; unsafe_getindex; line: 236\n",
        "                48 bitarray.jl; BitArray; line: 34\n",
        "               24 multidimensional.jl; unsafe_getindex; line: 241\n",
        "                2 bitarray.jl; size; line: 55\n",
        "                3 multidimensional.jl; unsafe_getindex; line: 171\n",
        "                1 multidimensional.jl; unsafe_getindex; line: 172\n",
        "                9 multidimensional.jl; unsafe_getindex; line: 174\n",
        "               5  multidimensional.jl; unsafe_getindex; line: 292\n",
        "         173 ...formula/formula.jl; ModelMatrix; line: 238\n",
        "           13  ...ormula/formula.jl; expandcols; line: 208\n",
        "             7 abstractarray.jl; float64; line: 309\n",
        "              7 bitarray.jl; convert; line: 309\n",
        "              6 abstractarray.jl; hcat; line: 523\n",
        "           1   ...ormula/formula.jl; expandcols; line: 210\n",
        "             1 abstractarray.jl; float64; line: 309\n",
        "              1 bitarray.jl; convert; line: 309\n",
        "           7   ...ormula/formula.jl; expandcols; line: 211\n",
        "             7 abstractarray.jl; float64; line: 309\n",
        "              7 bitarray.jl; convert; line: 309\n",
        "           121 ...ormula/formula.jl; expandcols; line: 214\n",
        "             56 broadcast.jl; .*; line: 278\n",
        "              8  broadcast.jl; broadcast!; line: 227\n",
        "                  1 broadcast.jl; _F_; line: 95\n",
        "                  5 broadcast.jl; _F_; line: 96\n",
        "                  1 broadcast.jl; _F_; line: 292\n",
        "                  1 broadcast.jl; _F_; line: 295\n",
        "              48 broadcast.jl; broadcast_shape; line: 30\n",
        "                48 broadcast.jl; longer_size; line: 24\n",
        "              12 multidimensional.jl; getindex; line: 50\n",
        "               8 multidimensional.jl; _getindex!; line: 37\n",
        "               1 multidimensional.jl; _getindex!; line: 40\n",
        "               2 multidimensional.jl; _getindex!; line: 295\n",
        "            31 abstractarray.jl; hcat; line: 561\n",
        "             31 array.jl; copy!; line: 55\n",
        "              31 array.jl; unsafe_copy!; line: 42\n",
        "         5   ...formula/formula.jl; model_response; line: 184\n",
        "           5 ...s/src/dataarray.jl; convert; line: 1034\n",
        "            1 ...s/src/dataarray.jl; getindex; line: 616\n",
        "            2 reduce.jl; any; line: 561\n",
        "             1 .../src/dataarray.jl; getindex; line: 616\n",
        "             1 .../src/dataarray.jl; getindex; line: 619\n",
        "            2 reduce.jl; any; line: 562\n",
        "        2   ...edModels/src/lmm.jl; lmm; line: 11\n",
        "          2 ...edModels/src/lmm.jl; retrm; line: 4\n",
        "            2 array.jl; ones; line: 159\n",
        "               2 array.jl; fill!; line: 146\n",
        "        8   ...edModels/src/lmm.jl; lmm; line: 28\n",
        "           2 abstractarray.jl; vcat; line: 587\n",
        "            2 multidimensional.jl; setindex!; line: 76\n",
        "           5 multidimensional.jl; getindex; line: 50\n",
        "            1 multidimensional.jl; _getindex!; line: 37\n",
        "            2 multidimensional.jl; _getindex!; line: 293\n",
        "            2 operators.jl; to_index; line: 290\n",
        "        4   ...edModels/src/lmm.jl; lmm; line: 33\n",
        "          2 array.jl; ctranspose; line: 1278\n",
        "           2 array.jl; transpose!; line: 1263\n",
        "           2 abstractarray.jl; hcat; line: 561\n",
        "            2 array.jl; copy!; line: 55\n",
        "             2 array.jl; unsafe_copy!; line: 42\n",
        "        19  ...edModels/src/lmm.jl; lmm; line: 34\n",
        "          19 linalg/cholmod.jl; CholmodSparse; line: 441\n",
        "           19 linalg/cholmod.jl; CholmodSparse; line: 437\n",
        "            3  array.jl; copy!; line: 55\n",
        "             3 array.jl; unsafe_copy!; line: 42\n",
        "            1  linalg/cholmod.jl; CholmodSparse!; line: 403\n",
        "             1 broadcast.jl; .<; line: 383\n",
        "              1 broadcast.jl; dumpbitcache; line: 109\n",
        "            2  linalg/cholmod.jl; CholmodSparse!; line: 413\n",
        "             2 broadcast.jl; .<=; line: 383\n",
        "              1 broadcast.jl; dumpbitcache; line: 113\n",
        "              1 broadcast.jl; dumpbitcache; line: 114\n",
        "            12 linalg/cholmod.jl; CholmodSparse!; line: 417\n",
        "             12 linalg/cholmod.jl; sort!; line: 809\n",
        "        210 ...edModels/src/lmm.jl; lmm; line: 35\n",
        "          27  linalg/cholmod.jl; A_mul_Bc; line: 507\n",
        "          2   linalg/cholmod.jl; A_mul_Bc; line: 512\n",
        "          2   linalg/cholmod.jl; A_mul_Bc; line: 526\n",
        "           100 linalg/cholmod.jl; cholfact; line: 644\n",
        "           79  linalg/cholmod.jl; cholfact; line: 647\n",
        "        48  ...edModels/src/lmm.jl; lmm; line: 36\n",
        "          2  linalg/sparse.jl; *; line: 33\n",
        "           1 linalg/sparse.jl; A_mul_B!; line: 23\n",
        "           1 linalg/sparse.jl; A_mul_B!; line: 24\n",
        "          4  linalg/sparse.jl; *; line: 118\n",
        "          4  linalg/sparse.jl; *; line: 119\n",
        "          38 linalg/sparse.jl; *; line: 120\n",
        "1     multidimensional.jl; unsafe_getindex; line: 174\n",
        "1     reduce.jl; maximum_rgn; line: 400\n",
        "  6621 ....3/NLopt/src/NLopt.jl; nlopt_callback_wrapper; line: 387\n",
        "    6620 ...linearmixedmodels.jl; obj; line: 13\n",
        "     32   ...inearmixedmodels.jl; objective; line: 86\n",
        "        32 linalg/cholmod.jl; logdet; line: 1020\n",
        "         30 linalg/cholmod.jl; logdet; line: 1017\n",
        "          1  array.jl; getindex; line: 254\n",
        "          2  array.jl; getindex; line: 256\n",
        "           2 array.jl; copy!; line: 55\n",
        "            2 array.jl; unsafe_copy!; line: 42\n",
        "          1  linalg/cholmod.jl; diag; line: 986\n",
        "          1  linalg/cholmod.jl; diag; line: 989\n",
        "           1 linalg/generic.jl; diff; line: 34\n",
        "          1  linalg/cholmod.jl; diag; line: 994\n",
        "          7  linalg/cholmod.jl; diag; line: 995\n",
        "          2  linalg/cholmod.jl; diag; line: 997\n",
        "          3  linalg/cholmod.jl; diag; line: 998\n",
        "         2  linalg/cholmod.jl; logdet; line: 1018\n",
        "     1    ...dels/src/scalarn.jl; solve!; line: 69\n",
        "      1 ...Models/src/scalarn.jl; size; line: 63\n",
        "     368  ...dels/src/scalarn.jl; solve!; line: 71\n",
        "      1   abstractarray.jl; eltype; line: 11\n",
        "       2   broadcast.jl; broadcast!; line: 227\n",
        "           1 broadcast.jl; _F_; line: 95\n",
        "           1 broadcast.jl; _F_; line: 96\n",
        "       1   broadcast.jl; broadcast_shape; line: 30\n",
        "         1 broadcast.jl; longer_size; line: 24\n",
        "       33  combinatorics.jl; permute!!; line: 149\n",
        "         2  array.jl; setindex!; line: 298\n",
        "       23  combinatorics.jl; permute!!; line: 150\n",
        "         1  array.jl; setindex!; line: 298\n",
        "       7   combinatorics.jl; permute!!; line: 151\n",
        "        300 linalg/cholmod.jl; solve; line: 940\n",
        "         1   linalg/cholmod.jl; CholmodDense!; line: 319\n",
        "           298 linalg/cholmod.jl; solve; line: 793\n",
        "     2321 ...dels/src/scalarn.jl; solve!; line: 72\n",
        "       47   linalg/matmul.jl; scale!; line: 23\n",
        "        1934 linalg/cholmod.jl; solve; line: 943\n",
        "         143  linalg/cholmod.jl; CholmodDense!; line: 319\n",
        "         1791 linalg/cholmod.jl; solve; line: 793\n",
        "          1    linalg/cholmod.jl; CholmodDense; line: 338\n",
        "        3    multidimensional.jl; getindex; line: 49\n",
        "         2 abstractarray.jl; checkbounds; line: 70\n",
        "        47   multidimensional.jl; getindex; line: 50\n",
        "         34 multidimensional.jl; _getindex!; line: 37\n",
        "         11 multidimensional.jl; _getindex!; line: 295\n",
        "         2  operators.jl; to_index; line: 290\n",
        "     252  ...dels/src/scalarn.jl; solve!; line: 73\n",
        "      230 linalg/blas.jl; syrk!; line: 597\n",
        "      4   ...lg/factorization.jl; cholfact!; line: 30\n",
        "       2 linalg/factorization.jl; cholfact!; line: 30\n",
        "       2 linalg/factorization.jl; cholfact!; line: 35\n",
        "        17 linalg/blas.jl; syrk!; line: 597\n",
        "     1    ...dels/src/scalarn.jl; solve!; line: 74\n",
        "        1 linalg/blas.jl; gemv!; line: 261\n",
        "     96   ...dels/src/scalarn.jl; solve!; line: 75\n",
        "       2  abstractarray.jl; copy; line: 202\n",
        "       2  combinatorics.jl; ipermute!!; line: 172\n",
        "       1  combinatorics.jl; ipermute!!; line: 173\n",
        "        89 linalg/cholmod.jl; solve; line: 940\n",
        "         1  linalg/cholmod.jl; CholmodDense!; line: 319\n",
        "           2  array.jl; getindex; line: 256\n",
        "            2 array.jl; copy!; line: 55\n",
        "             2 array.jl; unsafe_copy!; line: 42\n",
        "           86 linalg/cholmod.jl; solve; line: 793\n",
        "            1  linalg/cholmod.jl; CholmodDense; line: 333\n",
        "            3  linalg/cholmod.jl; CholmodDense; line: 338\n",
        "     82   ...dels/src/scalarn.jl; solve!; line: 82\n",
        "     91   ...dels/src/scalarn.jl; solve!; line: 84"
       ]
      },
      {
       "output_type": "stream",
       "stream": "stdout",
       "text": [
        "\n",
        "      3  linalg/blas.jl; gemv!; line: 261\n",
        "       2  linalg/diagonal.jl; *; line: 45\n",
        "        1 broadcast.jl; broadcast!; line: 227\n",
        "        1  array.jl; vcat; line: 990\n",
        "        6  linalg/sparse.jl; At_mul_B!; line: 68\n",
        "        3  linalg/sparse.jl; At_mul_B!; line: 69\n",
        "        2  linalg/sparse.jl; At_mul_B!; line: 73\n",
        "        13 linalg/sparse.jl; At_mul_B!; line: 77\n",
        "        32 linalg/sparse.jl; At_mul_B!; line: 78\n",
        "        29 linalg/sparse.jl; At_mul_B!; line: 80\n",
        "     12   ...dels/src/scalarn.jl; theta!; line: 101\n",
        "      12 array.jl; copy!; line: 55\n",
        "       12 array.jl; unsafe_copy!; line: 42\n",
        "     45   ...dels/src/scalarn.jl; theta!; line: 104\n",
        "     57   ...dels/src/scalarn.jl; theta!; line: 105\n",
        "     3261 ...dels/src/scalarn.jl; theta!; line: 108\n",
        "      3235 linalg/cholmod.jl; cholfact!; line: 669\n",
        "        26 linalg/cholmod.jl; chm_scale!; line: 891\n",
        "         2  linalg/cholmod.jl; CholmodDense; line: 327\n",
        "           24 linalg/cholmod.jl; chm_scale!; line: 706\n",
        "            1  linalg/cholmod.jl; cmn; line: 41\n"
       ]
      }
     ],
     "prompt_number": 10
    },
    {
     "cell_type": "markdown",
     "metadata": {},
     "source": [
      "The important lines are\n",
      "```\n",
      "  6621 ....3/NLopt/src/NLopt.jl; nlopt_callback_wrapper; line: 387\n",
      "    6620 ...linearmixedmodels.jl; obj; line: 13\n",
      "     2321 ...dels/src/scalarn.jl; solve!; line: 72\n",
      "        1934 linalg/cholmod.jl; solve; line: 943\n",
      "         1791 linalg/cholmod.jl; solve; line: 793\n",
      "     3261 ...dels/src/scalarn.jl; theta!; line: 108\n",
      "      3235 linalg/cholmod.jl; cholfact!; line: 669\n",
      "```\n",
      "\n",
      "Roughly half the time in the evaluation of the objective function is spent updating the sparse Cholesky factor (`linalg/cholmod.jl; cholfact!`) and over 1/4 of the time is spent in solving a sparse system of equations using this decomposition (`linalg/cholmod.jl; solve`)"
     ]
    },
    {
     "cell_type": "heading",
     "level": 2,
     "metadata": {},
     "source": [
      "Version Info"
     ]
    },
    {
     "cell_type": "code",
     "collapsed": false,
     "input": [
      "versioninfo()"
     ],
     "language": "python",
     "metadata": {},
     "outputs": [
      {
       "output_type": "stream",
       "stream": "stdout",
       "text": [
        "Julia Version 0.3.0-prerelease+2600"
       ]
      },
      {
       "output_type": "stream",
       "stream": "stdout",
       "text": [
        "\n",
        "Commit 0382fd4 (2014-04-12 02:36 UTC)\n",
        "Platform Info:\n",
        "  System: Linux (x86_64-pc-linux-gnu)\n",
        "  CPU: AMD Athlon(tm) II X4 635 Processor\n",
        "  WORD_SIZE: 64\n",
        "  BLAS: libopenblas (NO_LAPACK NO_LAPACKE DYNAMIC_ARCH NO_AFFINITY)\n",
        "  LAPACK: liblapack\n",
        "  LIBM: libopenlibm\n"
       ]
      }
     ],
     "prompt_number": 9
    }
   ],
   "metadata": {}
  }
 ]
}