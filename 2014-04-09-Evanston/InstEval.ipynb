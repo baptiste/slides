{
 "metadata": {
  "language": "Julia",
  "name": ""
 },
 "nbformat": 3,
 "nbformat_minor": 0,
 "worksheets": [
  {
   "cells": [
    {
     "cell_type": "heading",
     "level": 1,
     "metadata": {},
     "source": [
      "Fitting the InstEval data"
     ]
    },
    {
     "cell_type": "markdown",
     "metadata": {},
     "source": [
      "First we should create the data set as a DataFrame"
     ]
    },
    {
     "cell_type": "code",
     "collapsed": false,
     "input": [
      "using DataFrames,MixedModels\n",
      "inst = DataFrame(read_rda(\"./data/InstEval.rda\")[\"InstEval\"])"
     ],
     "language": "python",
     "metadata": {},
     "outputs": [
      {
       "html": [
        "<table><tr><th></th><th>s</th><th>d</th><th>studage</th><th>lectage</th><th>service</th><th>dept</th><th>y</th></tr><tr><th>1</th><td>1</td><td>1002</td><td>2</td><td>2</td><td>0</td><td>2</td><td>5</td></tr><tr><th>2</th><td>1</td><td>1050</td><td>2</td><td>1</td><td>1</td><td>6</td><td>2</td></tr><tr><th>3</th><td>1</td><td>1582</td><td>2</td><td>2</td><td>0</td><td>2</td><td>5</td></tr><tr><th>4</th><td>1</td><td>2050</td><td>2</td><td>2</td><td>1</td><td>3</td><td>3</td></tr><tr><th>5</th><td>2</td><td>115</td><td>2</td><td>1</td><td>0</td><td>5</td><td>2</td></tr><tr><th>6</th><td>2</td><td>756</td><td>2</td><td>1</td><td>0</td><td>5</td><td>4</td></tr><tr><th>7</th><td>3</td><td>7</td><td>2</td><td>1</td><td>1</td><td>11</td><td>4</td></tr><tr><th>8</th><td>3</td><td>13</td><td>2</td><td>1</td><td>0</td><td>10</td><td>5</td></tr><tr><th>9</th><td>3</td><td>36</td><td>2</td><td>1</td><td>0</td><td>10</td><td>5</td></tr><tr><th>10</th><td>3</td><td>140</td><td>2</td><td>1</td><td>0</td><td>10</td><td>4</td></tr><tr><th>11</th><td>3</td><td>409</td><td>2</td><td>2</td><td>0</td><td>10</td><td>4</td></tr><tr><th>12</th><td>3</td><td>444</td><td>2</td><td>2</td><td>0</td><td>10</td><td>4</td></tr><tr><th>13</th><td>3</td><td>494</td><td>2</td><td>1</td><td>1</td><td>9</td><td>4</td></tr><tr><th>14</th><td>3</td><td>625</td><td>2</td><td>2</td><td>0</td><td>10</td><td>3</td></tr><tr><th>15</th><td>3</td><td>696</td><td>2</td><td>2</td><td>1</td><td>9</td><td>2</td></tr><tr><th>16</th><td>3</td><td>1056</td><td>2</td><td>2</td><td>1</td><td>8</td><td>4</td></tr><tr><th>17</th><td>3</td><td>1437</td><td>2</td><td>1</td><td>0</td><td>10</td><td>4</td></tr><tr><th>18</th><td>3</td><td>1917</td><td>2</td><td>1</td><td>0</td><td>10</td><td>5</td></tr><tr><th>19</th><td>3</td><td>1936</td><td>2</td><td>1</td><td>0</td><td>10</td><td>2</td></tr><tr><th>20</th><td>3</td><td>2058</td><td>2</td><td>1</td><td>0</td><td>10</td><td>3</td></tr><tr><th>21</th><td>4</td><td>17</td><td>2</td><td>2</td><td>0</td><td>2</td><td>4</td></tr><tr><th>22</th><td>4</td><td>70</td><td>2</td><td>1</td><td>1</td><td>11</td><td>5</td></tr><tr><th>23</th><td>4</td><td>501</td><td>2</td><td>1</td><td>0</td><td>2</td><td>5</td></tr><tr><th>24</th><td>4</td><td>1161</td><td>2</td><td>1</td><td>1</td><td>11</td><td>3</td></tr><tr><th>25</th><td>4</td><td>1323</td><td>2</td><td>1</td><td>0</td><td>2</td><td>4</td></tr><tr><th>26</th><td>4</td><td>1349</td><td>2</td><td>2</td><td>0</td><td>2</td><td>5</td></tr><tr><th>27</th><td>4</td><td>1361</td><td>2</td><td>1</td><td>0</td><td>2</td><td>4</td></tr><tr><th>28</th><td>4</td><td>1564</td><td>2</td><td>2</td><td>0</td><td>2</td><td>3</td></tr><tr><th>29</th><td>5</td><td>115</td><td>2</td><td>1</td><td>0</td><td>5</td><td>4</td></tr><tr><th>30</th><td>5</td><td>536</td><td>2</td><td>1</td><td>0</td><td>5</td><td>4</td></tr><tr><th>&vellip;</th><td>&vellip;</td><td>&vellip;</td><td>&vellip;</td><td>&vellip;</td><td>&vellip;</td><td>&vellip;</td><td>&vellip;</td></tr></table>"
       ],
       "metadata": {},
       "output_type": "pyout",
       "prompt_number": 1,
       "text": [
        "73421x7 DataFrame\n",
        "|-------|--------|--------|---------|---------|---------|------|---|\n",
        "| Row # | s      | d      | studage | lectage | service | dept | y |\n",
        "| 1     | \"1\"    | \"1002\" | \"2\"     | \"2\"     | \"0\"     | \"2\"  | 5 |\n",
        "| 2     | \"1\"    | \"1050\" | \"2\"     | \"1\"     | \"1\"     | \"6\"  | 2 |\n",
        "| 3     | \"1\"    | \"1582\" | \"2\"     | \"2\"     | \"0\"     | \"2\"  | 5 |\n",
        "| 4     | \"1\"    | \"2050\" | \"2\"     | \"2\"     | \"1\"     | \"3\"  | 3 |\n",
        "| 5     | \"2\"    | \"115\"  | \"2\"     | \"1\"     | \"0\"     | \"5\"  | 2 |\n",
        "| 6     | \"2\"    | \"756\"  | \"2\"     | \"1\"     | \"0\"     | \"5\"  | 4 |\n",
        "| 7     | \"3\"    | \"7\"    | \"2\"     | \"1\"     | \"1\"     | \"11\" | 4 |\n",
        "| 8     | \"3\"    | \"13\"   | \"2\"     | \"1\"     | \"0\"     | \"10\" | 5 |\n",
        "| 9     | \"3\"    | \"36\"   | \"2\"     | \"1\"     | \"0\"     | \"10\" | 5 |\n",
        "| 10    | \"3\"    | \"140\"  | \"2\"     | \"1\"     | \"0\"     | \"10\" | 4 |\n",
        "| 11    | \"3\"    | \"409\"  | \"2\"     | \"2\"     | \"0\"     | \"10\" | 4 |\n",
        "\u22ee\n",
        "| 73410 | \"2972\" | \"1056\" | \"4\"     | \"2\"     | \"1\"     | \"8\"  | 5 |\n",
        "| 73411 | \"2972\" | \"1106\" | \"4\"     | \"1\"     | \"1\"     | \"4\"  | 3 |\n",
        "| 73412 | \"2972\" | \"1203\" | \"4\"     | \"3\"     | \"1\"     | \"3\"  | 5 |\n",
        "| 73413 | \"2972\" | \"1722\" | \"4\"     | \"5\"     | \"1\"     | \"11\" | 5 |\n",
        "| 73414 | \"2972\" | \"1749\" | \"4\"     | \"1\"     | \"0\"     | \"10\" | 5 |\n",
        "| 73415 | \"2972\" | \"1780\" | \"4\"     | \"4\"     | \"1\"     | \"11\" | 3 |\n",
        "| 73416 | \"2972\" | \"1782\" | \"4\"     | \"4\"     | \"1\"     | \"4\"  | 5 |\n",
        "| 73417 | \"2972\" | \"2034\" | \"4\"     | \"1\"     | \"1\"     | \"6\"  | 3 |\n",
        "| 73418 | \"2972\" | \"2079\" | \"4\"     | \"3\"     | \"1\"     | \"11\" | 4 |\n",
        "| 73419 | \"2972\" | \"2084\" | \"4\"     | \"1\"     | \"0\"     | \"10\" | 5 |\n",
        "| 73420 | \"2972\" | \"2110\" | \"4\"     | \"2\"     | \"1\"     | \"4\"  | 1 |\n",
        "| 73421 | \"2972\" | \"2121\" | \"4\"     | \"2\"     | \"1\"     | \"2\"  | 3 |"
       ]
      }
     ],
     "prompt_number": 1
    },
    {
     "cell_type": "code",
     "collapsed": false,
     "input": [
      "fm1 = fit(lmm(y ~ dept*service + (1|s) + (1|d), inst))"
     ],
     "language": "python",
     "metadata": {},
     "outputs": [
      {
       "metadata": {},
       "output_type": "pyout",
       "prompt_number": 3,
       "text": [
        "Linear mixed model fit by maximum likelihood\n",
        " logLik: -118792.776708, deviance: 237585.553415\n",
        "\n",
        " Variance components:\n",
        "                Variance    Std.Dev.\n",
        " s              0.105418    0.324681\n",
        " d              0.258416    0.508347\n",
        " Residual       1.384728    1.176745\n",
        " Number of obs: 73421; levels of grouping factors: 2972, 1128\n",
        "\n",
        "  Fixed-effects parameters:\n",
        "        Estimate Std.Error   z value\n",
        " [1]     3.22961  0.064053   50.4209\n",
        " [2]    0.129536  0.101294   1.27882\n",
        " [3]   -0.176751 0.0881352  -2.00545\n",
        " [4]   0.0517102 0.0817524  0.632522\n",
        " [5]   0.0347319  0.085621  0.405647\n",
        " [6]     0.14594 0.0997984   1.46235\n",
        " [7]    0.151689 0.0816897   1.85689\n",
        " [8]    0.104206  0.118751  0.877517\n",
        " [9]   0.0440401 0.0962985  0.457329\n",
        "[10]   0.0517546 0.0986029  0.524879\n",
        "[11]   0.0466719  0.101942  0.457828\n",
        "[12]   0.0563461 0.0977925   0.57618\n",
        "[13]   0.0596536  0.100233   0.59515\n",
        "[14]  0.00556281  0.110867 0.0501757\n",
        "[15]    0.252025 0.0686507   3.67112\n",
        "[16]   -0.180757  0.123179  -1.46744\n",
        "[17]   0.0186492  0.110017  0.169512\n",
        "[18]   -0.282269 0.0792937  -3.55979\n",
        "[19]   -0.494464 0.0790278  -6.25683\n",
        "[20]   -0.392054  0.110313  -3.55403\n",
        "[21]   -0.278547 0.0823727  -3.38154\n",
        "[22]   -0.189526  0.111449  -1.70056\n",
        "[23]   -0.499868 0.0885423  -5.64553\n",
        "[24]   -0.497162 0.0917162  -5.42065\n",
        "[25]    -0.24042 0.0982071   -2.4481\n",
        "[26]   -0.223013 0.0890548  -2.50422\n",
        "[27]   -0.516997 0.0809077  -6.38997\n",
        "[28]   -0.384773  0.091843  -4.18946\n"
       ]
      }
     ],
     "prompt_number": 3
    },
    {
     "cell_type": "code",
     "collapsed": false,
     "input": [
      "@time fit(lmm(y ~ dept*service + (1|s) + (1|d), inst));"
     ],
     "language": "python",
     "metadata": {},
     "outputs": [
      {
       "output_type": "stream",
       "stream": "stdout",
       "text": [
        "elapsed time: 7"
       ]
      },
      {
       "output_type": "stream",
       "stream": "stdout",
       "text": [
        ".170804855 seconds (211949256 bytes allocated)\n"
       ]
      }
     ],
     "prompt_number": 3
    }
   ],
   "metadata": {}
  }
 ]
}