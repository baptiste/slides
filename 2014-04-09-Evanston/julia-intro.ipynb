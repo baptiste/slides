{
 "metadata": {
  "language": "Julia",
  "name": ""
 },
 "nbformat": 3,
 "nbformat_minor": 0,
 "worksheets": [
  {
   "cells": [
    {
     "cell_type": "heading",
     "level": 1,
     "metadata": {},
     "source": [
      "Basic Operations"
     ]
    },
    {
     "cell_type": "code",
     "collapsed": false,
     "input": [
      "# some basic math\n",
      "x = 1;\n",
      "y = 2;\n",
      "\n",
      "z = x + y"
     ],
     "language": "python",
     "metadata": {
      "slideshow": {
       "slide_type": "slide"
      }
     },
     "outputs": [
      {
       "metadata": {},
       "output_type": "pyout",
       "prompt_number": 1,
       "text": [
        "3"
       ]
      }
     ],
     "prompt_number": 1
    },
    {
     "cell_type": "code",
     "collapsed": false,
     "input": [
      "# what about vectors and matrices?\n",
      "v = [1,2,3,4]  # row vector or array"
     ],
     "language": "python",
     "metadata": {},
     "outputs": [
      {
       "metadata": {},
       "output_type": "pyout",
       "prompt_number": 2,
       "text": [
        "4-element Array{Int64,1}:\n",
        " 1\n",
        " 2\n",
        " 3\n",
        " 4"
       ]
      }
     ],
     "prompt_number": 2
    },
    {
     "cell_type": "code",
     "collapsed": false,
     "input": [
      "# we can use syntax similar to matlab to access elements or groups of elements\n",
      "@show v[3]\n",
      "@show v[end]\n",
      "@show v[2:end-1]"
     ],
     "language": "python",
     "metadata": {},
     "outputs": [
      {
       "output_type": "stream",
       "stream": "stdout",
       "text": [
        "v[3] => 3"
       ]
      },
      {
       "output_type": "stream",
       "stream": "stdout",
       "text": [
        "\n",
        "v[end] => 4\n",
        "v[2:end - 1] => [2,3]\n"
       ]
      },
      {
       "metadata": {},
       "output_type": "pyout",
       "prompt_number": 3,
       "text": [
        "2-element Array{Int64,1}:\n",
        " 2\n",
        " 3"
       ]
      }
     ],
     "prompt_number": 3
    },
    {
     "cell_type": "code",
     "collapsed": false,
     "input": [
      "# to create column-vectors, use spaces\n",
      "vc = [1 2 3 4]"
     ],
     "language": "python",
     "metadata": {},
     "outputs": [
      {
       "metadata": {},
       "output_type": "pyout",
       "prompt_number": 4,
       "text": [
        "1x4 Array{Int64,2}:\n",
        " 1  2  3  4"
       ]
      }
     ],
     "prompt_number": 4
    },
    {
     "cell_type": "code",
     "collapsed": false,
     "input": [
      "# some matrix algebra\n",
      "W = v * vc"
     ],
     "language": "python",
     "metadata": {},
     "outputs": [
      {
       "metadata": {},
       "output_type": "pyout",
       "prompt_number": 5,
       "text": [
        "4x4 Array{Int64,2}:\n",
        " 1  2   3   4\n",
        " 2  4   6   8\n",
        " 3  6   9  12\n",
        " 4  8  12  16"
       ]
      }
     ],
     "prompt_number": 5
    },
    {
     "cell_type": "code",
     "collapsed": false,
     "input": [
      "# more matrix algebra\n",
      "A = rand( (4,10) )\n",
      "A' * v "
     ],
     "language": "python",
     "metadata": {},
     "outputs": [
      {
       "metadata": {},
       "output_type": "pyout",
       "prompt_number": 6,
       "text": [
        "10-element Array{Float64,1}:\n",
        " 4.4437 \n",
        " 3.32154\n",
        " 3.67077\n",
        " 6.54316\n",
        " 4.63613\n",
        " 4.08758\n",
        " 5.37556\n",
        " 7.17741\n",
        " 5.84786\n",
        " 4.8488 "
       ]
      }
     ],
     "prompt_number": 6
    },
    {
     "cell_type": "code",
     "collapsed": false,
     "input": [
      "# we can also have N-dimensional arrays\n",
      "V = rand( (10,4,2) )"
     ],
     "language": "python",
     "metadata": {},
     "outputs": [
      {
       "metadata": {},
       "output_type": "pyout",
       "prompt_number": 7,
       "text": [
        "10x4x2 Array{Float64,3}:\n",
        "[:, :, 1] =\n",
        " 0.0756466  0.445499  0.526364   0.87692 \n",
        " 0.035178   0.259337  0.907468   0.605747\n",
        " 0.260155   0.426908  0.595616   0.450185\n",
        " 0.416798   0.621345  0.0457122  0.252138\n",
        " 0.68822    0.822574  0.324743   0.168318\n",
        " 0.0466493  0.726482  0.503084   0.297405\n",
        " 0.187241   0.190494  0.825927   0.572422\n",
        " 0.39803    0.812826  0.353897   0.210966\n",
        " 0.680417   0.399754  0.400827   0.855112\n",
        " 0.992845   0.520957  0.428059   0.928217\n",
        "\n",
        "[:, :, 2] =\n",
        " 0.9556     0.243449   0.0395782  0.168385\n",
        " 0.607675   0.0598209  0.534716   0.572266\n",
        " 0.223227   0.220029   0.516037   0.165075\n",
        " 0.19164    0.28428    0.102585   0.533848\n",
        " 0.0544011  0.638921   0.611439   0.167256\n",
        " 0.764824   0.23025    0.167007   0.544359\n",
        " 0.965736   0.185786   0.286573   0.96174 \n",
        " 0.731351   0.739329   0.611687   0.141666\n",
        " 0.338632   0.276726   0.545601   0.359607\n",
        " 0.31261    0.299455   0.509195   0.469571"
       ]
      }
     ],
     "prompt_number": 7
    },
    {
     "cell_type": "heading",
     "level": 1,
     "metadata": {},
     "source": [
      "Looping"
     ]
    },
    {
     "cell_type": "code",
     "collapsed": false,
     "input": [
      "# let's try a for loop\n",
      "for i = 1:10\n",
      "    println( \"I am at $i\")\n",
      "end"
     ],
     "language": "python",
     "metadata": {},
     "outputs": [
      {
       "output_type": "stream",
       "stream": "stdout",
       "text": [
        "I am at 1"
       ]
      },
      {
       "output_type": "stream",
       "stream": "stdout",
       "text": [
        "\n",
        "I am at 2\n",
        "I am at 3\n",
        "I am at 4\n",
        "I am at 5\n",
        "I am at 6\n",
        "I am at 7\n",
        "I am at 8\n",
        "I am at 9\n",
        "I am at 10\n"
       ]
      }
     ],
     "prompt_number": 8
    },
    {
     "cell_type": "code",
     "collapsed": false,
     "input": [
      "# for loops also work on iterators/collections\n",
      "for i in [3,9,2]\n",
      "    println(\"Now at $i\")\n",
      "end"
     ],
     "language": "python",
     "metadata": {},
     "outputs": [
      {
       "output_type": "stream",
       "stream": "stdout",
       "text": [
        "Now at 3\n",
        "Now at 9\n",
        "Now at 2\n"
       ]
      }
     ],
     "prompt_number": 9
    },
    {
     "cell_type": "heading",
     "level": 1,
     "metadata": {},
     "source": [
      "Types"
     ]
    },
    {
     "cell_type": "code",
     "collapsed": false,
     "input": [
      "# it is great to have dictionaries\n",
      "d = Dict()\n",
      "\n",
      "d[\"hello\"] = \"bye\"\n",
      "d[\"what\"] = \"wtf\"\n",
      "\n",
      "println( d[\"hello\"] )"
     ],
     "language": "python",
     "metadata": {},
     "outputs": [
      {
       "output_type": "stream",
       "stream": "stdout",
       "text": [
        "bye\n"
       ]
      }
     ],
     "prompt_number": 10
    },
    {
     "cell_type": "code",
     "collapsed": false,
     "input": [
      "# we can also define custom types\n",
      "type Car\n",
      "    color::String\n",
      "    weight::Float64   # types are optional\n",
      "    brand::String\n",
      "end\n",
      "\n",
      "car1 = Car(\"white\", 12.3, \"Chevrolet\")\n",
      "car2 = Car(\"red\", 10.2, \"Renault\")"
     ],
     "language": "python",
     "metadata": {},
     "outputs": [
      {
       "metadata": {},
       "output_type": "pyout",
       "prompt_number": 43,
       "text": [
        "Car(\"red\",10.2,\"Renault\")"
       ]
      }
     ],
     "prompt_number": 43
    },
    {
     "cell_type": "heading",
     "level": 1,
     "metadata": {},
     "source": [
      "Functions"
     ]
    },
    {
     "cell_type": "code",
     "collapsed": false,
     "input": [
      "# we can create generic functions\n",
      "function addit( x, y )\n",
      "    return x + y\n",
      "end\n",
      "\n",
      "# and apply them\n",
      "addit( 3, 2 )"
     ],
     "language": "python",
     "metadata": {},
     "outputs": [
      {
       "metadata": {},
       "output_type": "pyout",
       "prompt_number": 41,
       "text": [
        "5"
       ]
      }
     ],
     "prompt_number": 41
    },
    {
     "cell_type": "code",
     "collapsed": false,
     "input": [
      "# but we can also add vectors or matrices...\n",
      "addit( [1,2,3], [4,5,6] )"
     ],
     "language": "python",
     "metadata": {},
     "outputs": [
      {
       "metadata": {},
       "output_type": "pyout",
       "prompt_number": 13,
       "text": [
        "3-element Array{Int64,1}:\n",
        " 5\n",
        " 7\n",
        " 9"
       ]
      }
     ],
     "prompt_number": 13
    },
    {
     "cell_type": "code",
     "collapsed": false,
     "input": [
      "# but let's look at what Julia does for x, y being ints\n",
      "code_native( addit, (Int, Int) )"
     ],
     "language": "python",
     "metadata": {},
     "outputs": [
      {
       "output_type": "stream",
       "stream": "stdout",
       "text": [
        "\t.text\n",
        "Filename: In[12]\n",
        "Source line: 3\n",
        "\tpush\tRBP\n",
        "\tmov\tRBP, RSP\n",
        "Source line: 3\n",
        "\tadd\tRDI, RSI\n",
        "\tmov\tRAX, RDI\n",
        "\tpop\tRBP\n",
        "\tret\n"
       ]
      }
     ],
     "prompt_number": 14
    },
    {
     "cell_type": "code",
     "collapsed": false,
     "input": [
      "# but what about floats?\n",
      "code_native( addit, (Float64, Float64) )"
     ],
     "language": "python",
     "metadata": {},
     "outputs": [
      {
       "output_type": "stream",
       "stream": "stdout",
       "text": [
        "\t.text\n",
        "Filename: In[12]\n",
        "Source line: 3\n",
        "\tpush\tRBP\n",
        "\tmov\tRBP, RSP\n",
        "Source line: 3\n",
        "\tvaddsd\tXMM0, XMM0, XMM1\n",
        "\tpop\tRBP\n",
        "\tret\n"
       ]
      }
     ],
     "prompt_number": 15
    },
    {
     "cell_type": "code",
     "collapsed": false,
     "input": [
      "# and floats and ints?\n",
      "code_native( addit, (Float64, Int) )"
     ],
     "language": "python",
     "metadata": {},
     "outputs": [
      {
       "output_type": "stream",
       "stream": "stdout",
       "text": [
        "\t.text\n",
        "Filename: In[12]\n",
        "Source line: 3\n",
        "\tpush\tRBP\n",
        "\tmov\tRBP, RSP\n",
        "Source line: 3\n",
        "\tvcvtsi2sd\tXMM1, XMM0, RDI\n",
        "\tvaddsd\tXMM0, XMM1, XMM0\n",
        "\tpop\tRBP\n",
        "\tret\n"
       ]
      }
     ],
     "prompt_number": 16
    },
    {
     "cell_type": "markdown",
     "metadata": {},
     "source": [
      "Julia uses Multiple Dispatch to choose which implementation to call. In the same way, we can add specializations:"
     ]
    },
    {
     "cell_type": "code",
     "collapsed": false,
     "input": [
      "function addit( c1::Car, c2::Car )\n",
      "    return c1.weight + c2.weight\n",
      "end\n",
      "\n",
      "addit( car1, car2 )"
     ],
     "language": "python",
     "metadata": {},
     "outputs": [
      {
       "metadata": {},
       "output_type": "pyout",
       "prompt_number": 44,
       "text": [
        "22.5"
       ]
      }
     ],
     "prompt_number": 44
    },
    {
     "cell_type": "code",
     "collapsed": false,
     "input": [
      "addit( car1, 2 )"
     ],
     "language": "python",
     "metadata": {},
     "outputs": [
      {
       "ename": "LoadError",
       "evalue": "no method +(Car, Int64)\nwhile loading In[47], in expression starting on line 1",
       "output_type": "pyerr",
       "traceback": [
        "no method +(Car, Int64)\nwhile loading In[47], in expression starting on line 1",
        " in addit at In[41]:3"
       ]
      }
     ],
     "prompt_number": 47
    },
    {
     "cell_type": "heading",
     "level": 1,
     "metadata": {},
     "source": [
      "Calling C Code"
     ]
    },
    {
     "cell_type": "code",
     "collapsed": false,
     "input": [
      "# Call libc's clock()\n",
      "cTime = ccall( (:clock, \"libc\"), Int32, ())"
     ],
     "language": "python",
     "metadata": {},
     "outputs": [
      {
       "metadata": {},
       "output_type": "pyout",
       "prompt_number": 50,
       "text": [
        "45740924"
       ]
      }
     ],
     "prompt_number": 50
    },
    {
     "cell_type": "code",
     "collapsed": false,
     "input": [
      "# getenv(\"SHELL\")\n",
      "path = ccall( (:getenv, \"libc\"), Ptr{Uint8}, (Ptr{Uint8},), \"SHELL\")\n",
      "\n",
      "# convert from char* to String\n",
      "bytestring(path)"
     ],
     "language": "python",
     "metadata": {},
     "outputs": [
      {
       "metadata": {},
       "output_type": "pyout",
       "prompt_number": 51,
       "text": [
        "\"/bin/bash\""
       ]
      }
     ],
     "prompt_number": 51
    },
    {
     "cell_type": "heading",
     "level": 1,
     "metadata": {},
     "source": [
      "Packages"
     ]
    },
    {
     "cell_type": "code",
     "collapsed": false,
     "input": [
      "# tell Julia that we are using the DimensionalityReduction package\n",
      "#  (I previously installed it with  Pkg.add(\"DimensionalityReduction\") )\n",
      "using DimensionalityReduction\n",
      "\n",
      "# plotting package, matplotlib from Python\n",
      "using PyPlot\n",
      "\n",
      "# generate random data, apply PCA\n",
      "srand(1238)\n",
      "X = randn(200,2) * rand(2,2)\n",
      "\n",
      "Xpca = pca(X, center=true, scale=false)\n",
      "\n",
      "\n",
      "PCs = Xpca.rotation\n",
      "PCWeights = Xpca.standard_deviations\n",
      "\n",
      "\n",
      "plot( X[:,1], X[:,2], \"rx\" )  # plot data in original space\n",
      "xlabel(\"x1\"); ylabel(\"x2\");\n",
      "\n",
      "# show 1st principal component\n",
      "plot( [0, PCWeights[1] * PCs[1,1]], [0, PCWeights[1] * PCs[2,1]], \"k\", linewidth=2 );"
     ],
     "language": "python",
     "metadata": {},
     "outputs": [
      {
       "metadata": {},
       "output_type": "display_data",
       "png": "[encoded data removed]",
       "text": [
        "Figure(PyObject <matplotlib.figure.Figure object at 0x7f422613f650>)"
       ]
      }
     ],
     "prompt_number": 40
    },
    {
     "cell_type": "heading",
     "level": 1,
     "metadata": {},
     "source": [
      "Parallel Processing"
     ]
    },
    {
     "cell_type": "code",
     "collapsed": false,
     "input": [
      "# add 6 extra instances of Julia\n",
      "addprocs(6);"
     ],
     "language": "python",
     "metadata": {},
     "outputs": [],
     "prompt_number": 19
    },
    {
     "cell_type": "heading",
     "level": 3,
     "metadata": {},
     "source": [
      "Random number sum"
     ]
    },
    {
     "cell_type": "code",
     "collapsed": false,
     "input": [
      "# let's compute simultaneous matrix invertions and multiplications in parallel\n",
      "\n",
      "@everywhere function randSum( seed::Int )\n",
      "    \n",
      "    srand( seed )\n",
      "    \n",
      "    x = 1.0\n",
      "    \n",
      "    for i=1:1000000\n",
      "        x += rand()\n",
      "    end\n",
      "    \n",
      "    return x\n",
      "end\n",
      "\n",
      "# pre-compile functions\n",
      "@everywhere randSum( 1234 )\n",
      "\n",
      "# compile pmap\n",
      "pmap( randSum, [1] );\n",
      "\n"
     ],
     "language": "python",
     "metadata": {},
     "outputs": [],
     "prompt_number": 19
    },
    {
     "cell_type": "code",
     "collapsed": false,
     "input": [
      "# list of seeds for which we want to compute doSingle\n",
      "seeds = 1:1000\n",
      "\n",
      "# -- let's compare the time of a single thread vs multi threaded\n",
      "\n",
      "# single-process implementation\n",
      "@time resultSingle = map( randSum, seeds );\n",
      "\n",
      "\n",
      "# run a parallel map()\n",
      "# Julia automatically distributes the jobs among the available processes\n",
      "@time resultParallel = pmap( randSum, seeds );\n",
      "\n",
      "# and we can query the values\n",
      "println(\"\")\n",
      "@show resultSingle[1]\n",
      "@show resultParallel[1]"
     ],
     "language": "python",
     "metadata": {},
     "outputs": [
      {
       "output_type": "stream",
       "stream": "stdout",
       "text": [
        "elapsed time: 7"
       ]
      },
      {
       "output_type": "stream",
       "stream": "stdout",
       "text": [
        ".415855412 seconds (368776 bytes allocated)\n"
       ]
      },
      {
       "output_type": "stream",
       "stream": "stdout",
       "text": [
        "elapsed time: 1"
       ]
      },
      {
       "output_type": "stream",
       "stream": "stdout",
       "text": [
        ".789883402 seconds (10455080 bytes allocated)\n",
        "\n",
        "resultSingle[1] => 499873.95982404036\n",
        "resultParallel[1] => 499873.95982404036\n"
       ]
      },
      {
       "metadata": {},
       "output_type": "pyout",
       "prompt_number": 20,
       "text": [
        "499873.95982404036"
       ]
      }
     ],
     "prompt_number": 20
    },
    {
     "cell_type": "heading",
     "level": 3,
     "metadata": {},
     "source": [
      "File I/O: string search over multiple files"
     ]
    },
    {
     "cell_type": "markdown",
     "metadata": {},
     "source": [
      "This is a more advanced example, using filter(), readdir() and file I/O"
     ]
    },
    {
     "cell_type": "code",
     "collapsed": false,
     "input": [
      "@everywhere function findStringInFile( fileName::String, str::String )\n",
      "    \n",
      "    file = open( fileName, \"r\" )\n",
      "    \n",
      "    while !eof(file)\n",
      "        line = readline( file )\n",
      "        \n",
      "        if contains( line, str )\n",
      "            return true\n",
      "        end\n",
      "    end\n",
      "    \n",
      "    # not found\n",
      "    return false\n",
      "    \n",
      "end\n",
      "\n",
      "# pre-compile in all instances\n",
      "@everywhere findStringInFile( \"/dev/null\", \"nothing\" )\n",
      "\n",
      "\n",
      "# let's examine the files in /usr/include, but only ending in \".h\"\n",
      "hFiles = filter( x->endswith(x, \".h\"), readdir( \"/usr/include/\" ) )\n",
      "\n",
      "\n",
      "funcToMap = x->findStringInFile( \"/usr/include/\" * x, \"printf\")\n",
      "\n",
      "@time resultSingle = map( funcToMap, hFiles );\n",
      "@time resultParallel = pmap( funcToMap, hFiles );"
     ],
     "language": "python",
     "metadata": {},
     "outputs": [
      {
       "output_type": "stream",
       "stream": "stdout",
       "text": [
        "elapsed time: 7"
       ]
      },
      {
       "output_type": "stream",
       "stream": "stdout",
       "text": [
        ".861212045 seconds (50309768 bytes allocated)\n"
       ]
      },
      {
       "output_type": "stream",
       "stream": "stdout",
       "text": [
        "elapsed time: 0."
       ]
      },
      {
       "output_type": "stream",
       "stream": "stdout",
       "text": [
        "206874741 seconds (18335196 bytes allocated)\n"
       ]
      }
     ],
     "prompt_number": 20
    },
    {
     "cell_type": "raw",
     "metadata": {},
     "source": [
      "Note that file caching by the OS can make a big difference when running this function for the second time!"
     ]
    }
   ],
   "metadata": {}
  }
 ]
}